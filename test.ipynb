{
 "cells": [
  {
   "cell_type": "code",
   "execution_count": 1,
   "metadata": {},
   "outputs": [],
   "source": [
    "from projectLength import Length"
   ]
  },
  {
   "cell_type": "code",
   "execution_count": 2,
   "metadata": {},
   "outputs": [],
   "source": [
    "x=Length(5)"
   ]
  },
  {
   "cell_type": "code",
   "execution_count": 3,
   "metadata": {},
   "outputs": [
    {
     "data": {
      "text/plain": [
       "projectLength.Length"
      ]
     },
     "execution_count": 3,
     "metadata": {},
     "output_type": "execute_result"
    }
   ],
   "source": [
    "type(x)"
   ]
  },
  {
   "cell_type": "code",
   "execution_count": 4,
   "metadata": {},
   "outputs": [],
   "source": [
    "L=[1,2,3,x]"
   ]
  },
  {
   "cell_type": "code",
   "execution_count": 5,
   "metadata": {},
   "outputs": [
    {
     "data": {
      "text/plain": [
       "[1, 2, 3, <projectLength.Length at 0x1c989fedcf0>]"
      ]
     },
     "execution_count": 5,
     "metadata": {},
     "output_type": "execute_result"
    }
   ],
   "source": [
    "L"
   ]
  },
  {
   "cell_type": "code",
   "execution_count": 6,
   "metadata": {},
   "outputs": [
    {
     "name": "stdout",
     "output_type": "stream",
     "text": [
      "5\n"
     ]
    }
   ],
   "source": [
    "print(x)"
   ]
  },
  {
   "cell_type": "code",
   "execution_count": 7,
   "metadata": {},
   "outputs": [],
   "source": [
    "G=Length(5,'km')"
   ]
  },
  {
   "cell_type": "code",
   "execution_count": 8,
   "metadata": {},
   "outputs": [
    {
     "name": "stdout",
     "output_type": "stream",
     "text": [
      "5000\n"
     ]
    }
   ],
   "source": [
    "print(G)"
   ]
  },
  {
   "cell_type": "code",
   "execution_count": 3,
   "metadata": {},
   "outputs": [],
   "source": [
    "from projectCcy import Ccy"
   ]
  },
  {
   "cell_type": "code",
   "execution_count": 4,
   "metadata": {},
   "outputs": [],
   "source": [
    "C=Ccy(800,'FAZA')"
   ]
  },
  {
   "cell_type": "code",
   "execution_count": 5,
   "metadata": {},
   "outputs": [
    {
     "name": "stdout",
     "output_type": "stream",
     "text": [
      "800.00 FAZA\n"
     ]
    }
   ],
   "source": [
    "print(C)"
   ]
  },
  {
   "cell_type": "code",
   "execution_count": 6,
   "metadata": {},
   "outputs": [],
   "source": [
    "# f=C.changeTo('JPY')\n",
    "f=C.changeTo('USD')"
   ]
  },
  {
   "cell_type": "code",
   "execution_count": 7,
   "metadata": {},
   "outputs": [
    {
     "name": "stdout",
     "output_type": "stream",
     "text": [
      "Changde USD,444.49383264807204\n"
     ]
    }
   ],
   "source": [
    "print(f)"
   ]
  },
  {
   "cell_type": "code",
   "execution_count": 1,
   "metadata": {},
   "outputs": [],
   "source": [
    "from projCurrConv import CurrencyConvert"
   ]
  },
  {
   "cell_type": "code",
   "execution_count": 2,
   "metadata": {},
   "outputs": [],
   "source": [
    "faiz=CurrencyConvert(200,'INR')"
   ]
  },
  {
   "cell_type": "code",
   "execution_count": 3,
   "metadata": {},
   "outputs": [
    {
     "name": "stdout",
     "output_type": "stream",
     "text": [
      "200.00 INR\n"
     ]
    }
   ],
   "source": [
    "print(faiz)"
   ]
  },
  {
   "cell_type": "code",
   "execution_count": 4,
   "metadata": {},
   "outputs": [
    {
     "name": "stdout",
     "output_type": "stream",
     "text": [
      "None\n"
     ]
    }
   ],
   "source": [
    "conv=faiz.changeTo('USD')\n",
    "print(conv)"
   ]
  },
  {
   "cell_type": "code",
   "execution_count": 5,
   "metadata": {},
   "outputs": [
    {
     "name": "stdout",
     "output_type": "stream",
     "text": [
      "None\n"
     ]
    }
   ],
   "source": [
    "print(conv)"
   ]
  },
  {
   "cell_type": "code",
   "execution_count": 6,
   "metadata": {},
   "outputs": [
    {
     "name": "stdout",
     "output_type": "stream",
     "text": [
      "23996000.0\n"
     ]
    }
   ],
   "source": [
    "a=faiz.__add__(2000000000)"
   ]
  },
  {
   "cell_type": "code",
   "execution_count": 7,
   "metadata": {},
   "outputs": [
    {
     "name": "stdout",
     "output_type": "stream",
     "text": [
      "None\n"
     ]
    }
   ],
   "source": [
    "print(a)"
   ]
  },
  {
   "cell_type": "code",
   "execution_count": null,
   "metadata": {},
   "outputs": [],
   "source": []
  },
  {
   "cell_type": "markdown",
   "metadata": {},
   "source": [
    "#### Testing Bakery Class"
   ]
  },
  {
   "cell_type": "code",
   "execution_count": 1,
   "metadata": {},
   "outputs": [],
   "source": [
    "from projBMSystem import Bakery"
   ]
  },
  {
   "cell_type": "code",
   "execution_count": 6,
   "metadata": {},
   "outputs": [
    {
     "name": "stdout",
     "output_type": "stream",
     "text": [
      "Thank you for visit.\n"
     ]
    }
   ],
   "source": [
    "faiz=Bakery('Faza','1','Cack','2')"
   ]
  },
  {
   "cell_type": "code",
   "execution_count": 8,
   "metadata": {},
   "outputs": [],
   "source": [
    "from a1atm import Atm "
   ]
  },
  {
   "cell_type": "code",
   "execution_count": 9,
   "metadata": {},
   "outputs": [
    {
     "name": "stdout",
     "output_type": "stream",
     "text": [
      "2530375510208\n",
      "Bye!\n"
     ]
    }
   ],
   "source": [
    "sbi = Atm()"
   ]
  },
  {
   "cell_type": "code",
   "execution_count": 5,
   "metadata": {},
   "outputs": [
    {
     "name": "stdout",
     "output_type": "stream",
     "text": [
      "[{'orderId': 1, 'order': 'cack', 'orderQut': 1, 'orderDate': '18-12-2023 14:10'}, {'orderId': 2, 'order': 'ice cream', 'orderQut': 5, 'orderDate': '18-12-2023 14:10'}, {'orderId': 3, 'order': 'bread', 'orderQut': 4, 'orderDate': '18-12-2023 14:10'}]\n"
     ]
    }
   ],
   "source": [
    "from datetime import datetime\n",
    "\n",
    "class Bakery:\n",
    "    def __init__(self, custName):\n",
    "        self.custName = custName\n",
    "        self.orderId = 0\n",
    "        self.orders = []  # List to store order details\n",
    "\n",
    "    def get_ordre(self):\n",
    "        self.orderId += 1\n",
    "        order = {\n",
    "            'orderId': self.orderId,\n",
    "            'order': input(\"What would you like to purchase: \"),\n",
    "            'orderQut': int(input(\"What quantity do you want: \")),\n",
    "            'orderDate': datetime.now().strftime(\"%d-%m-%Y %H:%M\")\n",
    "        }\n",
    "        self.orders.append(order)  # Add order details to the list\n",
    "        return order\n",
    "\n",
    "    def get_all_orders(self):\n",
    "        return self.orders\n",
    "\n",
    "# Example usage:\n",
    "heena = Bakery(\"Heena\")\n",
    "order1 = heena.get_ordre()\n",
    "\n",
    "order2 = heena.get_ordre()\n",
    "\n",
    "order3 = heena.get_ordre()\n",
    "\n",
    "all_orders_heena = heena.get_all_orders()\n",
    "\n",
    "print(all_orders_heena)\n"
   ]
  },
  {
   "cell_type": "code",
   "execution_count": 3,
   "metadata": {},
   "outputs": [
    {
     "name": "stdout",
     "output_type": "stream",
     "text": [
      "{'orderId': 1, 'order': 'cack', 'orderQut': 2, 'orderDate': datetime.datetime(2023, 12, 18, 12, 39)}\n",
      "{'orderId': 1, 'order': 'cack', 'orderQut': 2, 'orderDate': datetime.datetime(2023, 12, 18, 12, 39)}\n"
     ]
    }
   ],
   "source": [
    "customer = Bakery(\"Doe\")\n",
    "order_details = customer.get_ordre()\n",
    "order_details1 = customer.get_ordre()\n",
    "print(order_details)\n",
    "print(order_details)"
   ]
  },
  {
   "cell_type": "code",
   "execution_count": 2,
   "metadata": {},
   "outputs": [],
   "source": [
    "L=list()"
   ]
  },
  {
   "cell_type": "code",
   "execution_count": 3,
   "metadata": {},
   "outputs": [
    {
     "data": {
      "text/plain": [
       "[]"
      ]
     },
     "execution_count": 3,
     "metadata": {},
     "output_type": "execute_result"
    }
   ],
   "source": [
    "L"
   ]
  },
  {
   "cell_type": "code",
   "execution_count": 4,
   "metadata": {},
   "outputs": [
    {
     "data": {
      "text/plain": [
       "0"
      ]
     },
     "execution_count": 4,
     "metadata": {},
     "output_type": "execute_result"
    }
   ],
   "source": [
    "len(L)"
   ]
  },
  {
   "cell_type": "code",
   "execution_count": 10,
   "metadata": {},
   "outputs": [],
   "source": [
    "L.append([1,3])"
   ]
  },
  {
   "cell_type": "code",
   "execution_count": 11,
   "metadata": {},
   "outputs": [
    {
     "data": {
      "text/plain": [
       "3"
      ]
     },
     "execution_count": 11,
     "metadata": {},
     "output_type": "execute_result"
    }
   ],
   "source": [
    "len(L)"
   ]
  },
  {
   "cell_type": "code",
   "execution_count": 12,
   "metadata": {},
   "outputs": [
    {
     "data": {
      "text/plain": [
       "[1, [1, 2], [1, 3]]"
      ]
     },
     "execution_count": 12,
     "metadata": {},
     "output_type": "execute_result"
    }
   ],
   "source": [
    "L"
   ]
  },
  {
   "cell_type": "code",
   "execution_count": 7,
   "metadata": {},
   "outputs": [
    {
     "name": "stdout",
     "output_type": "stream",
     "text": [
      "1\n"
     ]
    }
   ],
   "source": [
    "numbers = [1, 2, 3, 4, 5, 6, 7, 8, 9, 10]\n",
    "print(numbers[0 : : 2])"
   ]
  },
  {
   "cell_type": "code",
   "execution_count": 15,
   "metadata": {},
   "outputs": [
    {
     "name": "stdout",
     "output_type": "stream",
     "text": [
      "Name:  Faiz\n",
      "Roll:  software Engineer\n",
      "Branch:  CSE\n",
      "None\n"
     ]
    }
   ],
   "source": [
    "from a0Notes import Geek\n",
    "\n",
    "G=Geek(name='Faiz', branch=\"CSE\", roll=\"software Engineer\")\n",
    "userInfo=G.accessPrivateFunction()\n",
    "print(userInfo)"
   ]
  },
  {
   "cell_type": "code",
   "execution_count": 20,
   "metadata": {},
   "outputs": [
    {
     "name": "stdout",
     "output_type": "stream",
     "text": [
      "2\n"
     ]
    }
   ],
   "source": [
    "num=int(input(\"Enter you num\"))\n",
    "print(num)"
   ]
  },
  {
   "cell_type": "code",
   "execution_count": 2,
   "metadata": {},
   "outputs": [
    {
     "name": "stdout",
     "output_type": "stream",
     "text": [
      "Customer ID: 1, Account Number: 10000001\n",
      "Your amount of 500 is deposited successfully. New balance: 1500\n",
      "Your amount of 200 is withdrawn successfully. New balance: 1300\n",
      "Current balance for Maaz: 1300\n",
      "Customer ID: 2, Account Number: 10000002\n",
      "Your amount of 300 is deposited successfully. New balance: 1800\n",
      "Insufficient funds for withdrawal.\n",
      "Current balance for Faiz: 1800\n"
     ]
    }
   ],
   "source": [
    "# Example usage:\n",
    "cust1 = Customer('Maaz', 1000)\n",
    "print(f\"Customer ID: {cust1.customer_id}, Account Number: {cust1.account.account_number}\")\n",
    "cust1.deposit(500)\n",
    "cust1.withdraw(200)\n",
    "print(f\"Current balance for {cust1.name}: {cust1.check_balance()}\")\n",
    "\n",
    "cust2 = Customer('Faiz', 1500)\n",
    "print(f\"Customer ID: {cust2.customer_id}, Account Number: {cust2.account.account_number}\")\n",
    "cust2.deposit(300)\n",
    "cust2.withdraw(2000)  # This should show insufficient funds\n",
    "print(f\"Current balance for {cust2.name}: {cust2.check_balance()}\")"
   ]
  },
  {
   "cell_type": "code",
   "execution_count": null,
   "metadata": {},
   "outputs": [],
   "source": []
  }
 ],
 "metadata": {
  "kernelspec": {
   "display_name": "Python 3",
   "language": "python",
   "name": "python3"
  },
  "language_info": {
   "codemirror_mode": {
    "name": "ipython",
    "version": 3
   },
   "file_extension": ".py",
   "mimetype": "text/x-python",
   "name": "python",
   "nbconvert_exporter": "python",
   "pygments_lexer": "ipython3",
   "version": "3.12.4"
  }
 },
 "nbformat": 4,
 "nbformat_minor": 2
}
